{
 "cells": [
  {
   "cell_type": "code",
   "execution_count": 10,
   "metadata": {},
   "outputs": [
    {
     "name": "stdout",
     "output_type": "stream",
     "text": [
      "USING RADFOAM CUDA KERNEL\n"
     ]
    }
   ],
   "source": [
    "import os\n",
    "import torch\n",
    "from torch import nn\n",
    "import torch.nn.functional as F\n",
    "from plyfile import PlyData, PlyElement\n",
    "import tqdm\n",
    "import meshplot as mp\n",
    "import mesh_tools as mt\n",
    "try: \n",
    "    import sys \n",
    "    sys.path.append('../')\n",
    "    from radfoam import Triangulation\n",
    "    from radfoam_model.render import TraceRays\n",
    "    from radfoam_model.utils import *\n",
    "    print('USING RADFOAM CUDA KERNEL')\n",
    "except:\n",
    "    from scipy.spatial import Delaunay\n",
    "    class Triangulation(nn.Module):\n",
    "        def __init__(self, points):\n",
    "            super().__init__()\n",
    "            self.points = points\n",
    "            self.update_scipy_delaunay()\n",
    "            self.repulsion_fac = 100\n",
    "            \n",
    "        def permutation(self):\n",
    "            return torch.arange(len(self.points), device=self.points.device).long()\n",
    "        \n",
    "        def tets(self):\n",
    "            return torch.tensor(self.delaunay.simplices, dtype=torch.float32, device=self.points.device)\n",
    "            \n",
    "        def tets_to_edges(self):\n",
    "            tets = self.tets()\n",
    "            edges = []\n",
    "            edges.append(torch.column_stack((tets[:, 0], tets[:, 1])))\n",
    "            edges.append(torch.column_stack((tets[:, 0], tets[:, 2])))\n",
    "            edges.append(torch.column_stack((tets[:, 0], tets[:, 3])))\n",
    "            edges.append(torch.column_stack((tets[:, 1], tets[:, 3])))\n",
    "            edges.append(torch.column_stack((tets[:, 2], tets[:, 3])))\n",
    "            edges.append(torch.column_stack((tets[:, 1], tets[:, 2])))\n",
    "            return torch.cat(edges).view(-1,6,2)\n",
    "            \n",
    "        def update_scipy_delaunay(self):\n",
    "            self.delaunay = Delaunay(self.points.cpu().detach().numpy())\n",
    "          "
   ]
  },
  {
   "cell_type": "code",
   "execution_count": 11,
   "metadata": {},
   "outputs": [],
   "source": [
    "num_init_points = 100000\n",
    "primal_points = (\n",
    "    torch.randn(num_init_points, 3, device='cuda') * 25\n",
    ")\n"
   ]
  },
  {
   "cell_type": "code",
   "execution_count": 12,
   "metadata": {},
   "outputs": [],
   "source": [
    "triangulation = Triangulation(primal_points)\n",
    "perm = triangulation.permutation().to(torch.long)\n",
    "primal_points = primal_points[perm]"
   ]
  },
  {
   "cell_type": "code",
   "execution_count": 13,
   "metadata": {},
   "outputs": [
    {
     "data": {
      "application/vnd.jupyter.widget-view+json": {
       "model_id": "4ac2479748d94b6fad8fc0aba17309cb",
       "version_major": 2,
       "version_minor": 0
      },
      "text/plain": [
       "Renderer(camera=PerspectiveCamera(children=(DirectionalLight(color='white', intensity=0.6, position=(-0.042716…"
      ]
     },
     "metadata": {},
     "output_type": "display_data"
    },
    {
     "data": {
      "text/plain": [
       "<meshplot.Viewer.Viewer at 0x756fb2d62fe0>"
      ]
     },
     "execution_count": 13,
     "metadata": {},
     "output_type": "execute_result"
    }
   ],
   "source": [
    "primal_values = (torch.norm(primal_points,dim=1) < 30) * 1.0 - 0.5\n",
    "mp.plot(*mt.marching_tetraheadra(triangulation.tets().long(),primal_values,primal_points))"
   ]
  },
  {
   "cell_type": "code",
   "execution_count": null,
   "metadata": {},
   "outputs": [],
   "source": []
  }
 ],
 "metadata": {
  "kernelspec": {
   "display_name": "radfoam",
   "language": "python",
   "name": "python3"
  },
  "language_info": {
   "codemirror_mode": {
    "name": "ipython",
    "version": 3
   },
   "file_extension": ".py",
   "mimetype": "text/x-python",
   "name": "python",
   "nbconvert_exporter": "python",
   "pygments_lexer": "ipython3",
   "version": "3.10.16"
  }
 },
 "nbformat": 4,
 "nbformat_minor": 2
}
