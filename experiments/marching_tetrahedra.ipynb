{
 "cells": [
  {
   "cell_type": "code",
   "execution_count": 2,
   "metadata": {},
   "outputs": [],
   "source": [
    "import torch\n",
    "from meshplot import plot\n",
    "import sys \n",
    "sys.path.append('../')\n",
    "import radfoam\n",
    "device='cuda'"
   ]
  },
  {
   "cell_type": "code",
   "execution_count": 4,
   "metadata": {},
   "outputs": [],
   "source": [
    "num_init_points = 30000\n",
    "primal_points = (torch.rand(num_init_points, 3, device='cuda')-.5)*2.\n",
    "\n",
    "primal_values = torch.norm(primal_points,dim=1)-.5\n",
    "primal_features = primal_points[:, 0]\n",
    "\n",
    "triangulation = radfoam.Triangulation(primal_points)\n",
    "perm = triangulation.permutation().to(torch.long)\n",
    "primal_points = primal_points[perm]\n",
    "primal_values = primal_values[perm]\n",
    "primal_features = primal_features[perm]"
   ]
  },
  {
   "cell_type": "code",
   "execution_count": 108,
   "metadata": {},
   "outputs": [],
   "source": [
    "def triangle_case1(tets, values, points, features, alpha_f):\n",
    "    '''one vertex is marked inside (resp. outside), three are outside (resp. inside).'''\n",
    "    ins = tets[values<0].repeat_interleave(3)\n",
    "    out = tets[values>=0]\n",
    "    \n",
    "    # interpolate point position\n",
    "    v_ins = values[values<0].repeat_interleave(3)\n",
    "    v_out = values[values>=0]\n",
    "    alpha_value = (v_out/(v_out-v_ins))[:, None]\n",
    "    new_points = alpha_value*points[ins] + (1-alpha_value)*points[out]\n",
    "    \n",
    "    # interpolate features\n",
    "    new_features = alpha_f*features[ins] + (1-alpha_f)*features[out]\n",
    "    \n",
    "    # create triangles\n",
    "    new_tri = torch.arange(len(new_points), device=points.device).reshape(len(new_points)//3,3)\n",
    "    \n",
    "    return new_points, new_tri, new_features\n",
    "\n",
    "def triangle_case2(tets, values, points, features, alpha_f):\n",
    "    '''two vertices are marked inside, two are marked outside'''\n",
    "    ins = tets[values<0]\n",
    "    out = tets[values>=0]\n",
    "    \n",
    "    # interpolate point position\n",
    "    v_ins = values[values<0]\n",
    "    v_out = values[values>=0]\n",
    "    \n",
    "    a1 = (v_out[::2, None]/(v_out[::2, None]-v_ins[::2, None]))\n",
    "    p1 = a1*points[ins][::2] + (1-a1)*points[out][::2]\n",
    "    \n",
    "    a2 = (v_out[1::2, None]/(v_out[1::2, None]-v_ins[1::2, None]))\n",
    "    p2 = a2*points[ins][1::2] + (1-a2)*points[out][1::2]\n",
    "    \n",
    "    a3 = (v_out[1::2, None]/(v_out[1::2, None]-v_ins[::2, None]))\n",
    "    p3 = a3*points[ins][::2] + (1-a3)*points[out][1::2]\n",
    "    \n",
    "    a4 = (v_out[::2, None]/(v_out[::2, None]-v_ins[1::2, None]))\n",
    "    p4 = a4*points[ins][1::2] + (1-a4)*points[out][::2]\n",
    "    \n",
    "    new_points = torch.cat((p1,p2,p3,p4))\n",
    "\n",
    "    # interpolate features\n",
    "    f1 = alpha_f*features[ins][::2] + (1-alpha_f)*features[out][::2]\n",
    "    f2 = alpha_f*features[ins][1::2] + (1-alpha_f)*features[out][1::2]\n",
    "    f3 = alpha_f*features[ins][::2] + (1-alpha_f)*features[out][1::2]\n",
    "    f4 = alpha_f*features[ins][1::2] + (1-alpha_f)*features[out][::2]\n",
    "    \n",
    "    new_features = torch.cat((f1,f2,f3,f4))\n",
    "    \n",
    "    # create triangles\n",
    "    ls = len(p1)\n",
    "    new_tri = torch.tensor([[0,2*ls,3*ls], [1*ls,3*ls,2*ls]], device=points.device).repeat(ls,1)\n",
    "    new_tri += torch.arange(ls, device=points.device).repeat_interleave(2)[:, None]\n",
    "    \n",
    "    return new_points, new_tri, new_features\n",
    "\n",
    "def reverse_triangles(tri, reverse):\n",
    "    tri[reverse, 0], tri[reverse, 1] = tri[reverse, 1].clone(), tri[reverse, 0].clone()\n",
    "\n",
    "def marching_tetrahedra(tets, sdf_values, points, features, alpha_f=.5):\n",
    "    \"\"\"\n",
    "        marching tetrahedra of a given tet grid (in our case extracted from delaunay)\n",
    "\n",
    "        Parameters:\n",
    "            tets: (N,4) tetrahedra indices\n",
    "            is_inside: (M,) boolean tensor, True if the point is inside the mesh\n",
    "            points: (M,3) tensor of vertices\n",
    "            features: (M,D) tensor of features at the vertices\n",
    "            alpha_f: float between 0 and 1, interpolation factor for features. .5 is default, 1. is inside vertices only\n",
    "            \n",
    "    \"\"\"\n",
    "    values = sdf_values[tets]\n",
    "    \n",
    "    pos = (values>0).sum(1)\n",
    "    new_v, new_f, new_cf = [], [], []\n",
    "    cur_ind = 0\n",
    "    for i in [1, 2, 3]:\n",
    "        if (pos==i).sum()>0:\n",
    "            if i==1:\n",
    "                reverse = torch.logical_or(values[:, 1]>0, values[:, 3]>0)[pos==1]\n",
    "                new_points, new_tri, new_features = triangle_case1(tets[pos==1], -values[pos==1], points, features, 1-alpha_f)\n",
    "                reverse_triangles(new_tri, reverse)\n",
    "            if i==2:\n",
    "                f13 = torch.logical_and(values[:, 1]<0, values[:, 3]<0)\n",
    "                f02 = torch.logical_and(values[:, 0]<0, values[:, 2]<0)\n",
    "                reverse = torch.logical_not(f13+f02)[pos==2]\n",
    "                new_points, new_tri, new_features = triangle_case2(tets[pos==2], values[pos==2], points, features, alpha_f)\n",
    "                reverse_triangles(new_tri, reverse.repeat_interleave(2))\n",
    "            if i==3:\n",
    "                reverse = torch.logical_or(values[:, 0]<0, values[:, 2]<0)[pos==3]\n",
    "                new_points, new_tri, new_features = triangle_case1(tets[pos==3], (values[pos==3]), points, features, alpha_f)\n",
    "                reverse_triangles(new_tri, reverse)\n",
    "            new_v.append(new_points)\n",
    "            new_cf.append(new_features)\n",
    "            new_f.append(cur_ind+new_tri)\n",
    "            cur_ind += len(new_points)\n",
    "            \n",
    "            \n",
    "\n",
    "           \n",
    "    return torch.cat(new_v), torch.cat(new_f), torch.cat(new_cf)\n",
    "\n",
    "v, f, feat = marching_tetrahedra(triangulation.tets().long(), primal_values, primal_points, primal_features)\n"
   ]
  },
  {
   "cell_type": "code",
   "execution_count": 109,
   "metadata": {},
   "outputs": [
    {
     "data": {
      "application/vnd.jupyter.widget-view+json": {
       "model_id": "abace3a4209743a0b8ecac9b26a4be24",
       "version_major": 2,
       "version_minor": 0
      },
      "text/plain": [
       "Renderer(camera=PerspectiveCamera(children=(DirectionalLight(color='white', intensity=0.6, position=(-0.000262…"
      ]
     },
     "metadata": {},
     "output_type": "display_data"
    },
    {
     "data": {
      "text/plain": [
       "<meshplot.Viewer.Viewer at 0x7cb35d773a00>"
      ]
     },
     "execution_count": 109,
     "metadata": {},
     "output_type": "execute_result"
    }
   ],
   "source": [
    "\n",
    "\n",
    "v, f, feat = marching_tetrahedra(triangulation.tets().long(), primal_values, primal_points, primal_features)\n",
    "\n",
    "import igl\n",
    "import numpy as np\n",
    "# Convert tensors to numpy arrays\n",
    "v_np = v.cpu().detach().numpy()\n",
    "f_np = f.cpu().detach().numpy()\n",
    "\n",
    "face_normals = igl.per_face_normals(v_np, f_np, np.array([1.0, 1.0, 1.0], dtype=np.float32))\n",
    "\n",
    "# plot(v.cpu().detach().numpy(), f.cpu().detach().numpy(), feat.cpu().detach().numpy())\n",
    "plot(v_np, f_np, (face_normals+1)/2.)"
   ]
  },
  {
   "cell_type": "code",
   "execution_count": 105,
   "metadata": {},
   "outputs": [
    {
     "name": "stdout",
     "output_type": "stream",
     "text": [
      "0.014841556549072266\n"
     ]
    }
   ],
   "source": [
    "import time\n",
    "start = time.time()\n",
    "marching_tetrahedra(triangulation.tets().long(), primal_values, primal_points, primal_features)\n",
    "print(time.time()-start)"
   ]
  },
  {
   "cell_type": "code",
   "execution_count": 110,
   "metadata": {},
   "outputs": [],
   "source": [
    "def export_obj(nv, nf, name: str, nvn=None):\n",
    "    if name[-4:] != \".obj\":\n",
    "        name += \".obj\"\n",
    "    try:\n",
    "        file = open(name, \"x\")\n",
    "    except:\n",
    "        file = open(name, \"w\")\n",
    "    # file.write(\"o {} \\n\".format(name))\n",
    "\n",
    "    for v in nv:\n",
    "        file.write(\"v {} {} {}\\n\".format(*v))\n",
    "    file.write(\"\\n\")\n",
    "\n",
    "    if nvn is not None:\n",
    "        for vn in nvn:\n",
    "            file.write(\"vn {} {} {}\\n\".format(*vn))\n",
    "    file.write(\"\\n\")\n",
    "\n",
    "    for face in nf:\n",
    "        file.write(\"f \" + \" \".join([str(fi + 1) for fi in face]) + \"\\n\")\n",
    "    file.write(\"\\n\")"
   ]
  },
  {
   "cell_type": "code",
   "execution_count": 111,
   "metadata": {},
   "outputs": [],
   "source": [
    "export_obj(v.cpu().detach().numpy(), f.cpu().detach().numpy(), 'test.obj')"
   ]
  },
  {
   "cell_type": "code",
   "execution_count": null,
   "metadata": {},
   "outputs": [],
   "source": []
  }
 ],
 "metadata": {
  "kernelspec": {
   "display_name": "radfoam",
   "language": "python",
   "name": "python3"
  },
  "language_info": {
   "codemirror_mode": {
    "name": "ipython",
    "version": 3
   },
   "file_extension": ".py",
   "mimetype": "text/x-python",
   "name": "python",
   "nbconvert_exporter": "python",
   "pygments_lexer": "ipython3",
   "version": "3.10.16"
  }
 },
 "nbformat": 4,
 "nbformat_minor": 2
}
