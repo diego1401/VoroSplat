{
 "cells": [
  {
   "cell_type": "code",
   "execution_count": 1,
   "metadata": {},
   "outputs": [],
   "source": [
    "import torch\n",
    "from meshplot import plot\n",
    "import sys \n",
    "sys.path.append('../')\n",
    "import radfoam\n",
    "from radfoam_model.mesh_utils import marching_tetrahedra\n",
    "device='cuda'"
   ]
  },
  {
   "cell_type": "code",
   "execution_count": 2,
   "metadata": {},
   "outputs": [],
   "source": [
    "num_init_points = 30000\n",
    "primal_points = (torch.rand(num_init_points, 3, device='cuda')-.5)*2.\n",
    "\n",
    "primal_values = torch.norm(primal_points,dim=1)-.5\n",
    "primal_features = primal_points[:, 0]\n",
    "\n",
    "triangulation = radfoam.Triangulation(primal_points)\n",
    "perm = triangulation.permutation().to(torch.long)\n",
    "primal_points = primal_points[perm]\n",
    "primal_values = primal_values[perm]\n",
    "primal_features = primal_features[perm]"
   ]
  },
  {
   "cell_type": "code",
   "execution_count": 8,
   "metadata": {},
   "outputs": [
    {
     "data": {
      "text/plain": [
       "torch.Size([30000])"
      ]
     },
     "execution_count": 8,
     "metadata": {},
     "output_type": "execute_result"
    }
   ],
   "source": [
    "primal_features.shape"
   ]
  },
  {
   "cell_type": "code",
   "execution_count": 9,
   "metadata": {},
   "outputs": [
    {
     "data": {
      "application/vnd.jupyter.widget-view+json": {
       "model_id": "df01378f0a174c438b7c802ce44e4ab7",
       "version_major": 2,
       "version_minor": 0
      },
      "text/plain": [
       "Renderer(camera=PerspectiveCamera(children=(DirectionalLight(color='white', intensity=0.6, position=(-0.000196…"
      ]
     },
     "metadata": {},
     "output_type": "display_data"
    },
    {
     "data": {
      "text/plain": [
       "<meshplot.Viewer.Viewer at 0x70f9fbf3c3a0>"
      ]
     },
     "execution_count": 9,
     "metadata": {},
     "output_type": "execute_result"
    }
   ],
   "source": [
    "primal_values[(0<primal_values)*(primal_values<.001)]=0\n",
    "\n",
    "v, f, feat = marching_tetrahedra(triangulation.tets().long(), primal_values, primal_points, primal_features[:, None])\n",
    "\n",
    "import igl\n",
    "import numpy as np\n",
    "# Convert tensors to numpy arrays\n",
    "v_np = v.cpu().detach().numpy()\n",
    "f_np = f.cpu().detach().numpy()\n",
    "\n",
    "face_normals = igl.per_face_normals(v_np, f_np, np.array([1.0, 1.0, 1.0], dtype=np.float32))\n",
    "\n",
    "plot(v.cpu().detach().numpy(), f.cpu().detach().numpy(), feat.cpu().detach().numpy())\n",
    "# plot(v_np, f_np, (face_normals+1)/2.)"
   ]
  },
  {
   "cell_type": "code",
   "execution_count": 13,
   "metadata": {},
   "outputs": [],
   "source": [
    "def export_obj(nv, nf, name: str, nvn=None):\n",
    "    if name[-4:] != \".obj\":\n",
    "        name += \".obj\"\n",
    "    try:\n",
    "        file = open(name, \"x\")\n",
    "    except:\n",
    "        file = open(name, \"w\")\n",
    "    # file.write(\"o {} \\n\".format(name))\n",
    "\n",
    "    for v in nv:\n",
    "        file.write(\"v {} {} {}\\n\".format(*v))\n",
    "    file.write(\"\\n\")\n",
    "\n",
    "    if nvn is not None:\n",
    "        for vn in nvn:\n",
    "            file.write(\"vn {} {} {}\\n\".format(*vn))\n",
    "    file.write(\"\\n\")\n",
    "\n",
    "    for face in nf:\n",
    "        file.write(\"f \" + \" \".join([str(fi + 1) for fi in face]) + \"\\n\")\n",
    "    file.write(\"\\n\")"
   ]
  },
  {
   "cell_type": "code",
   "execution_count": 14,
   "metadata": {},
   "outputs": [],
   "source": [
    "export_obj(v.cpu().detach().numpy(), f.cpu().detach().numpy(), 'test.obj')"
   ]
  },
  {
   "cell_type": "markdown",
   "metadata": {},
   "source": [
    "### New Method\n"
   ]
  },
  {
   "cell_type": "code",
   "execution_count": 4,
   "metadata": {},
   "outputs": [
    {
     "data": {
      "text/plain": [
       "19668"
      ]
     },
     "execution_count": 4,
     "metadata": {},
     "output_type": "execute_result"
    }
   ],
   "source": [
    "len(v)"
   ]
  },
  {
   "cell_type": "code",
   "execution_count": 5,
   "metadata": {},
   "outputs": [],
   "source": [
    "v, f, feat, edge = marching_tetrahedra(triangulation.tets().long(), primal_values, primal_points, primal_features, True)\n"
   ]
  }
 ],
 "metadata": {
  "kernelspec": {
   "display_name": "radfoam",
   "language": "python",
   "name": "python3"
  },
  "language_info": {
   "codemirror_mode": {
    "name": "ipython",
    "version": 3
   },
   "file_extension": ".py",
   "mimetype": "text/x-python",
   "name": "python",
   "nbconvert_exporter": "python",
   "pygments_lexer": "ipython3",
   "version": "3.10.16"
  }
 },
 "nbformat": 4,
 "nbformat_minor": 2
}
