{
 "cells": [
  {
   "cell_type": "code",
   "execution_count": 22,
   "metadata": {},
   "outputs": [],
   "source": [
    "import os\n",
    "import torch\n",
    "import numpy as np\n",
    "from torch import nn\n",
    "import torch.nn.functional as F\n",
    "from plyfile import PlyData, PlyElement\n",
    "import tqdm\n",
    "import meshplot as mp\n",
    "import sys \n",
    "sys.path.append('../')\n",
    "import radfoam\n",
    "import mesh_tools as mt\n",
    "\n",
    "device='cuda'"
   ]
  },
  {
   "cell_type": "code",
   "execution_count": 24,
   "metadata": {},
   "outputs": [],
   "source": [
    "def tetraCoord(tet_points):\n",
    "    v1 = tet_points[:, 1] - tet_points[:, 0]\n",
    "    v2 = tet_points[:, 2] - tet_points[:, 0]\n",
    "    v3 = tet_points[:, 3] - tet_points[:, 0]\n",
    "    mat = torch.stack((v1,v2,v3)).permute((1, 0, 2))\n",
    "    M1 = torch.inverse(mat)\n",
    "    return M1\n",
    "\n",
    "def pointInside(tet_points, p):\n",
    "    M1 = tetraCoord(tet_points)\n",
    "    newp = M1.bmm((p-tet_points[:, 0])[..., None]).squeeze()\n",
    "    cond = (newp>=0)*(newp <=1)*(newp.sum(-1, keepdim=True)<=1)\n",
    "    return cond.all(-1)\n"
   ]
  },
  {
   "cell_type": "code",
   "execution_count": 59,
   "metadata": {},
   "outputs": [],
   "source": [
    "num_init_points = 300000\n",
    "primal_points = (\n",
    "torch.rand(num_init_points, 3, device=device) - 0.5\n",
    ")*2\n",
    "primal_values = torch.rand(num_init_points, device=device) - 0.5\n",
    "triangulation = radfoam.Triangulation(primal_points)\n",
    "tree = radfoam.build_aabb_tree(primal_points)\n",
    "perm = triangulation.permutation().long()\n",
    "primal_points = primal_points[perm]\n"
   ]
  },
  {
   "cell_type": "code",
   "execution_count": 60,
   "metadata": {},
   "outputs": [
    {
     "data": {
      "application/vnd.jupyter.widget-view+json": {
       "model_id": "f7a3683e18ca4c73b68928fbedb1f6e5",
       "version_major": 2,
       "version_minor": 0
      },
      "text/plain": [
       "Renderer(camera=PerspectiveCamera(children=(DirectionalLight(color='white', intensity=0.6, position=(0.0022444…"
      ]
     },
     "metadata": {},
     "output_type": "display_data"
    },
    {
     "data": {
      "text/plain": [
       "<meshplot.Viewer.Viewer at 0x7b8bd88c9510>"
      ]
     },
     "execution_count": 60,
     "metadata": {},
     "output_type": "execute_result"
    }
   ],
   "source": [
    "primal_values = (torch.norm(primal_points,dim=1) < .4)*1.  - 0.5\n",
    "mp.plot(*mt.marching_tetraheadra(triangulation.tets().long(),primal_values,primal_points))"
   ]
  },
  {
   "cell_type": "code",
   "execution_count": 61,
   "metadata": {},
   "outputs": [],
   "source": [
    "v, f, samples = mt.load_and_sample_shape('pig.obj', '../data/',)\n",
    "queries = torch.tensor(samples, device='cuda', dtype=torch.float32) \n",
    "nearest_neighbor = radfoam.nn(primal_points, tree, queries)"
   ]
  },
  {
   "cell_type": "code",
   "execution_count": 62,
   "metadata": {},
   "outputs": [
    {
     "data": {
      "text/plain": [
       "torch.Size([2021121, 4, 3])"
      ]
     },
     "execution_count": 62,
     "metadata": {},
     "output_type": "execute_result"
    }
   ],
   "source": [
    "primal_points[triangulation.tets().long()].shape"
   ]
  },
  {
   "cell_type": "code",
   "execution_count": 63,
   "metadata": {},
   "outputs": [],
   "source": [
    "tet_index = triangulation.vert_to_tet().long()[nearest_neighbor.long()]\n",
    "tet_points = primal_points[triangulation.tets().long()[tet_index]]\n",
    "tet_bary = tet_points.mean(-2)\n",
    "mask_inside = pointInside(tet_points, queries)"
   ]
  },
  {
   "cell_type": "code",
   "execution_count": 64,
   "metadata": {},
   "outputs": [],
   "source": [
    "class AugmentedTriangulation:\n",
    "    def __init__(self, primal_points: torch.tensor) -> None:\n",
    "        self.triangulation = radfoam.Triangulation(primal_points)\n",
    "        perm = self.triangulation.permutation().to(torch.long)\n",
    "        self.points = primal_points[perm] \n",
    "        self.tree = radfoam.build_aabb_tree(self.points)\n",
    "        \n",
    "    @property\n",
    "    def tets(self):\n",
    "        return self.triangulation.tets().long()\n",
    "    \n",
    "    @property\n",
    "    def tets_neighbors(self):\n",
    "        neighs = ((self.triangulation.tet_adjacency().long())//4)\n",
    "        neighs[neighs>len(self.tets)] = -1\n",
    "        return neighs\n",
    "    \n",
    "    @property\n",
    "    def triangle_faces(self):\n",
    "        opp_face = torch.tensor([[1, 2, 3], [0, 3, 2], [0, 1, 3], [0, 2, 1]], device=device)\n",
    "        return self.tets[:, opp_face]\n",
    "    \n",
    "    @property \n",
    "    def tet_bary(self):\n",
    "        return self.points[self.tets].mean(-2)\n",
    "    \n",
    "    def signed_volume(self, P, queries):\n",
    "        '''TODO DEBUG'''\n",
    "        p1 = P[:,:,1] - P[:,:,0]\n",
    "        p2 = P[:,:,2] - P[:,:,0]\n",
    "        p3 = queries[:, None] - P[:,:,0]\n",
    "        return torch.det(torch.stack((p1, p2, p3), dim=-1))\n",
    "\n",
    "    def signed_normal(self, P, queries):\n",
    "        p1 = P[:,:,1] - P[:,:,0]\n",
    "        p2 = P[:,:,2] - P[:,:,0]\n",
    "        face_normal = torch.cross(p1, p2, dim=-1)\n",
    "        sign = ((queries[:, None]-P.sum(-2))*face_normal).sum(-1)\n",
    "        return sign\n",
    "        \n",
    "    def query_to_tet(self, queries, max_iter=100):\n",
    "        nearest_neighbor = radfoam.nn(self.points, self.tree, queries)\n",
    "        tet_index = self.triangulation.vert_to_tet().long()[nearest_neighbor.long()]\n",
    "        to_see = torch.ones(len(queries), dtype=torch.bool, device=queries.device)\n",
    "        for i in range(max_iter):\n",
    "            P = self.points[self.triangle_faces[tet_index[to_see]]] \n",
    "            signed_volume = self.signed_normal(P, queries[to_see])\n",
    "            smin, sargmin = signed_volume.min(-1)\n",
    "            to_see[torch.arange(len(to_see), device=device)[to_see][smin>=0]] = False\n",
    "            tet_index[to_see] = self.tets_neighbors[tet_index[to_see], sargmin[smin<0]]\n",
    "            if to_see.sum()==0:\n",
    "                break\n",
    "        return tet_index\n",
    "\n",
    "augmented_triangulation = AugmentedTriangulation(primal_points)\n",
    "query_tet = augmented_triangulation.query_to_tet(queries)\n",
    "# augmented_triangulation.get_triangle_faces()\n"
   ]
  },
  {
   "cell_type": "code",
   "execution_count": 65,
   "metadata": {},
   "outputs": [
    {
     "data": {
      "text/plain": [
       "tensor(897879, device='cuda:0')"
      ]
     },
     "execution_count": 65,
     "metadata": {},
     "output_type": "execute_result"
    }
   ],
   "source": [
    "query_tet.min()"
   ]
  },
  {
   "cell_type": "code",
   "execution_count": 68,
   "metadata": {},
   "outputs": [
    {
     "data": {
      "text/plain": [
       "tensor([130636, 130651, 131619,  ..., 169612, 170605, 171649], device='cuda:0')"
      ]
     },
     "execution_count": 68,
     "metadata": {},
     "output_type": "execute_result"
    }
   ],
   "source": [
    "augmented_triangulation.tets[query_tet].unique()"
   ]
  },
  {
   "cell_type": "code",
   "execution_count": 70,
   "metadata": {},
   "outputs": [
    {
     "data": {
      "application/vnd.jupyter.widget-view+json": {
       "model_id": "10d5afc0c1494b93b0f54d973d0315ea",
       "version_major": 2,
       "version_minor": 0
      },
      "text/plain": [
       "Renderer(camera=PerspectiveCamera(children=(DirectionalLight(color='white', intensity=0.6, position=(0.0225005…"
      ]
     },
     "metadata": {},
     "output_type": "display_data"
    },
    {
     "data": {
      "text/plain": [
       "<meshplot.Viewer.Viewer at 0x7b8bccf86fe0>"
      ]
     },
     "execution_count": 70,
     "metadata": {},
     "output_type": "execute_result"
    }
   ],
   "source": [
    "primal_values = torch.ones_like(primal_points[:, 0])\n",
    "primal_values[augmented_triangulation.tets[query_tet].unique()] = -1\n",
    "mp.plot(*mt.marching_tetraheadra(triangulation.tets().long(),primal_values,primal_points))"
   ]
  }
 ],
 "metadata": {
  "kernelspec": {
   "display_name": "radfoam",
   "language": "python",
   "name": "python3"
  },
  "language_info": {
   "codemirror_mode": {
    "name": "ipython",
    "version": 3
   },
   "file_extension": ".py",
   "mimetype": "text/x-python",
   "name": "python",
   "nbconvert_exporter": "python",
   "pygments_lexer": "ipython3",
   "version": "3.10.16"
  }
 },
 "nbformat": 4,
 "nbformat_minor": 2
}
