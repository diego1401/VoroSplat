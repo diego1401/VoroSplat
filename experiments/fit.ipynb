{
 "cells": [
  {
   "cell_type": "code",
   "execution_count": 21,
   "metadata": {},
   "outputs": [],
   "source": [
    "import os\n",
    "import torch\n",
    "import numpy as np\n",
    "from torch import nn\n",
    "import torch.nn.functional as F\n",
    "from plyfile import PlyData, PlyElement\n",
    "import tqdm\n",
    "from meshplot import plot\n",
    "import sys \n",
    "sys.path.append('../')\n",
    "import radfoam\n",
    "import mesh_tools as mt\n",
    "from radfoam_model.mesh_utils import marching_tetrahedra\n",
    "\n",
    "device='cuda'"
   ]
  },
  {
   "cell_type": "code",
   "execution_count": 22,
   "metadata": {},
   "outputs": [
    {
     "data": {
      "application/vnd.jupyter.widget-view+json": {
       "model_id": "dcf36ae3d2f04baca34311fcbdc15396",
       "version_major": 2,
       "version_minor": 0
      },
      "text/plain": [
       "Renderer(camera=PerspectiveCamera(children=(DirectionalLight(color='white', intensity=0.6, position=(0.0656904…"
      ]
     },
     "metadata": {},
     "output_type": "display_data"
    },
    {
     "data": {
      "text/plain": [
       "<meshplot.Viewer.Viewer at 0x7c56df197a90>"
      ]
     },
     "execution_count": 22,
     "metadata": {},
     "output_type": "execute_result"
    }
   ],
   "source": [
    "v, f, samples = mt.load_and_sample_shape('pig.obj', '../data/',)\n",
    "queries = torch.tensor(samples, device='cuda', dtype=torch.float32) \n",
    "\n",
    "plot(v,f)"
   ]
  },
  {
   "cell_type": "code",
   "execution_count": 23,
   "metadata": {},
   "outputs": [],
   "source": [
    "class AugmentedTriangulation:\n",
    "    def __init__(self, primal_points: torch.tensor) -> None:\n",
    "        self.triangulation = radfoam.Triangulation(primal_points)\n",
    "        perm = self.triangulation.permutation().to(torch.long)\n",
    "        self.points = primal_points[perm] \n",
    "        self.tree = radfoam.build_aabb_tree(self.points)\n",
    "        \n",
    "    @property\n",
    "    def tets(self):\n",
    "        return self.triangulation.tets().long()\n",
    "    \n",
    "    @property\n",
    "    def tets_neighbors(self):\n",
    "        neighs = ((self.triangulation.tet_adjacency().long())//4)\n",
    "        neighs[neighs>len(self.tets)] = -1\n",
    "        return neighs\n",
    "    \n",
    "    @property\n",
    "    def triangle_faces(self):\n",
    "        opp_face = torch.tensor([[1, 2, 3], [0, 3, 2], [0, 1, 3], [0, 2, 1]], device=device)\n",
    "        return self.tets[:, opp_face]\n",
    "    \n",
    "    @property \n",
    "    def tet_bary(self):\n",
    "        return self.points[self.tets].mean(-2)\n",
    "    \n",
    "    def signed_volume(self, P, queries):\n",
    "        '''TODO DEBUG'''\n",
    "        p1 = P[:,:,1] - P[:,:,0]\n",
    "        p2 = P[:,:,2] - P[:,:,0]\n",
    "        p3 = queries[:, None] - P[:,:,0]\n",
    "        return torch.det(torch.stack((p1, p2, p3), dim=-1))\n",
    "\n",
    "    def signed_normal(self, P, queries):\n",
    "        p1 = P[:,:,1] - P[:,:,0]\n",
    "        p2 = P[:,:,2] - P[:,:,0]\n",
    "        face_normal = torch.cross(p1, p2, dim=-1)\n",
    "        sign = ((queries[:, None]-P.sum(-2))*face_normal).sum(-1)\n",
    "        return sign\n",
    "        \n",
    "    def query_to_tet(self, queries, max_iter=100):\n",
    "        nearest_neighbor = radfoam.nn(self.points, self.tree, queries)\n",
    "        tet_index = self.triangulation.vert_to_tet().long()[nearest_neighbor.long()]\n",
    "        to_see = torch.ones(len(queries), dtype=torch.bool, device=queries.device)\n",
    "        for i in range(max_iter):\n",
    "            P = self.points[self.triangle_faces[tet_index[to_see]]] \n",
    "            signed_volume = self.signed_normal(P, queries[to_see])\n",
    "            smin, sargmin = signed_volume.min(-1)\n",
    "            to_see[torch.arange(len(to_see), device=device)[to_see][smin>=0]] = False\n",
    "            tet_index[to_see] = self.tets_neighbors[tet_index[to_see], sargmin[smin<0]]\n",
    "            if to_see.sum()==0:\n",
    "                break\n",
    "        return tet_index\n",
    "\n",
    "num_init_points = 30000\n",
    "\n",
    "primal_points = (torch.rand(num_init_points, 3, device=device)-.5)*2.\n",
    "\n",
    "triangulation = radfoam.Triangulation(primal_points)\n",
    "perm = triangulation.permutation().long()\n",
    "primal_points = primal_points[perm]\n",
    "\n",
    "augmented_triangulation = AugmentedTriangulation(primal_points)\n",
    "query_tet = augmented_triangulation.query_to_tet(queries)\n",
    "# augmented_triangulation.get_triangle_faces()\n"
   ]
  },
  {
   "cell_type": "code",
   "execution_count": 25,
   "metadata": {},
   "outputs": [
    {
     "data": {
      "application/vnd.jupyter.widget-view+json": {
       "model_id": "569a5132b3c140d29d4779b892b35685",
       "version_major": 2,
       "version_minor": 0
      },
      "text/plain": [
       "Renderer(camera=PerspectiveCamera(children=(DirectionalLight(color='white', intensity=0.6, position=(0.0194812…"
      ]
     },
     "metadata": {},
     "output_type": "display_data"
    },
    {
     "data": {
      "text/plain": [
       "<meshplot.Viewer.Viewer at 0x7c58f85309a0>"
      ]
     },
     "execution_count": 25,
     "metadata": {},
     "output_type": "execute_result"
    }
   ],
   "source": [
    "primal_values = torch.ones_like(primal_points[:, 0])\n",
    "primal_values[augmented_triangulation.tets[query_tet].unique()] = -1\n",
    "nv, nf, _, edge = marching_tetrahedra(triangulation.tets().long(),primal_values,primal_points, primal_points, True)\n",
    "\n",
    "plot(nv.cpu().detach().numpy(), nf.cpu().detach().numpy())"
   ]
  },
  {
   "cell_type": "code",
   "execution_count": null,
   "metadata": {},
   "outputs": [],
   "source": []
  }
 ],
 "metadata": {
  "kernelspec": {
   "display_name": "radfoam",
   "language": "python",
   "name": "python3"
  },
  "language_info": {
   "codemirror_mode": {
    "name": "ipython",
    "version": 3
   },
   "file_extension": ".py",
   "mimetype": "text/x-python",
   "name": "python",
   "nbconvert_exporter": "python",
   "pygments_lexer": "ipython3",
   "version": "3.10.16"
  }
 },
 "nbformat": 4,
 "nbformat_minor": 2
}
