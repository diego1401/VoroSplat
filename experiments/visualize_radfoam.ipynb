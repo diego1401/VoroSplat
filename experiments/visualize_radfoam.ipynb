{
 "cells": [
  {
   "cell_type": "code",
   "execution_count": 1,
   "metadata": {},
   "outputs": [
    {
     "name": "stdout",
     "output_type": "stream",
     "text": [
      "WARNING: CGAL voromesh not found, using scipy mesh extraction with NO WATERTIGHTNESS GUARANTEES. Please compile cpp_utils.\n"
     ]
    }
   ],
   "source": [
    "import sys\n",
    "sys.path.append('../utils')\n",
    "import mesh_tools as mt\n",
    "import torch\n",
    "import torch.nn as nn\n",
    "from custom_voronoi import VoronoiValues\n",
    "from meshplot import plot\n",
    "import numpy as np\n",
    "import numpy as np\n",
    "from pytorch3d.ops import knn_points\n",
    "from tqdm import tqdm\n",
    "from matplotlib import pyplot as plt"
   ]
  },
  {
   "cell_type": "code",
   "execution_count": 3,
   "metadata": {},
   "outputs": [],
   "source": [
    "from plyfile import PlyData, PlyElement\n",
    "scene = 'bonsai'\n",
    "path_to_pretrained = f'../../radfoam_original/output/{scene}/scene.ply'\n",
    "plydata = PlyData.read(path_to_pretrained)"
   ]
  },
  {
   "cell_type": "code",
   "execution_count": 4,
   "metadata": {},
   "outputs": [],
   "source": [
    "xyz = np.column_stack((np.array(plydata.elements[0].data['x']), np.array(plydata.elements[0].data['y']), np.array(plydata.elements[0].data['z'])))\n",
    "density = np.array(plydata.elements[0].data['density'])\n",
    "\n",
    "max_l = 3\n",
    "mask = ((xyz<max_l)*(xyz>-max_l)).all(-1)\n",
    "xyz = xyz[mask]/max_l\n",
    "density = density[mask]"
   ]
  },
  {
   "cell_type": "code",
   "execution_count": 5,
   "metadata": {},
   "outputs": [
    {
     "data": {
      "image/png": "[encoded data removed]",
      "text/plain": [
       "<Figure size 640x480 with 1 Axes>"
      ]
     },
     "metadata": {},
     "output_type": "display_data"
    }
   ],
   "source": [
    "plt.hist(density, bins=100)\n",
    "plt.show()"
   ]
  },
  {
   "cell_type": "code",
   "execution_count": 6,
   "metadata": {},
   "outputs": [],
   "source": [
    "subf=1\n",
    "density_treshold = 50\n",
    "\n",
    "V = VoronoiValues(xyz[::subf], density[::subf]-density_treshold)\n",
    "nv, nf = V.to_mesh()\n"
   ]
  },
  {
   "cell_type": "code",
   "execution_count": 7,
   "metadata": {},
   "outputs": [],
   "source": [
    "mt.export_obj(nv, nf, 'voronoi_bonsai.obj')"
   ]
  },
  {
   "cell_type": "code",
   "execution_count": null,
   "metadata": {},
   "outputs": [
    {
     "name": "stdout",
     "output_type": "stream",
     "text": [
      "94M\tvoronoi_bonsai.obj.obj\n"
     ]
    }
   ],
   "source": [
    "!du -sh voronoi_bonsai.obj.obj"
   ]
  },
  {
   "cell_type": "code",
   "execution_count": 11,
   "metadata": {},
   "outputs": [],
   "source": [
    "sys.path.append('../')\n",
    "import configargparse\n",
    "from configs import ModelParams, DatasetParams\n",
    "from radfoam_model.mesh_utils import marching_tetrahedra\n",
    "from radfoam_model.scene import RadFoamScene\n",
    "device = 'cuda'\n",
    "\n",
    "colors = torch.tensor(\n",
    "    np.array([plydata.elements[0].data[\"red\"], plydata.elements[0].data[\"green\"], plydata.elements[0].data[\"blue\"]]),\n",
    "    dtype=torch.uint8\n",
    ").T  # (N, 3)\n",
    "\n",
    "scene = \"bonsai\"\n",
    "path_to_pretrained = f'../../radfoam_original/output/{scene}/model.pt'\n",
    "parser = configargparse.ArgParser(\n",
    "        # default_config_files=[\"arguments/mipnerf360_outdoor_config.yaml\"]\n",
    "    )\n",
    "\n",
    "model_args = ModelParams(parser)\n",
    "model = RadFoamScene(args=model_args, device=device, attr_dtype=torch.float16)\n",
    "model.load_pt(path_to_pretrained)\n",
    "\n",
    "primal_features = colors[mask].cuda()\n",
    "primal_values = torch.from_numpy(density[::subf]-density_treshold).to(device=device)\n",
    "xyz_cuda = torch.from_numpy(xyz).to(device)\n",
    "v, f, feat = marching_tetrahedra(model.triangulation.tets().long(),primal_values ,xyz_cuda , primal_features)\n",
    "feat /= feat.max()"
   ]
  },
  {
   "cell_type": "code",
   "execution_count": 17,
   "metadata": {},
   "outputs": [],
   "source": [
    "mt.export_obj(v.detach().cpu().numpy(), f.detach().cpu().numpy(), 'mt_bonsai')"
   ]
  },
  {
   "cell_type": "code",
   "execution_count": 18,
   "metadata": {},
   "outputs": [
    {
     "name": "stdout",
     "output_type": "stream",
     "text": [
      "153M\tmt_bonsai.obj\n"
     ]
    }
   ],
   "source": [
    "!du -sh mt_bonsai.obj"
   ]
  },
  {
   "cell_type": "code",
   "execution_count": null,
   "metadata": {},
   "outputs": [],
   "source": []
  }
 ],
 "metadata": {
  "kernelspec": {
   "display_name": "vorosplat",
   "language": "python",
   "name": "python3"
  },
  "language_info": {
   "codemirror_mode": {
    "name": "ipython",
    "version": 3
   },
   "file_extension": ".py",
   "mimetype": "text/x-python",
   "name": "python",
   "nbconvert_exporter": "python",
   "pygments_lexer": "ipython3",
   "version": "3.10.16"
  }
 },
 "nbformat": 4,
 "nbformat_minor": 4
}
